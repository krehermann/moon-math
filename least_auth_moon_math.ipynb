{
 "cells": [
  {
   "cell_type": "code",
   "execution_count": 1,
   "metadata": {},
   "outputs": [
    {
     "data": {
      "text/plain": [
       "Integer Ring"
      ]
     },
     "execution_count": 1,
     "metadata": {},
     "output_type": "execute_result"
    }
   ],
   "source": [
    "ZZ"
   ]
  },
  {
   "cell_type": "code",
   "execution_count": 2,
   "metadata": {},
   "outputs": [
    {
     "data": {
      "text/plain": [
       "Non negative integer semiring"
      ]
     },
     "execution_count": 2,
     "metadata": {},
     "output_type": "execute_result"
    }
   ],
   "source": [
    "NN"
   ]
  },
  {
   "cell_type": "code",
   "execution_count": 3,
   "metadata": {},
   "outputs": [
    {
     "data": {
      "text/plain": [
       "Rational Field"
      ]
     },
     "execution_count": 3,
     "metadata": {},
     "output_type": "execute_result"
    }
   ],
   "source": [
    "QQ"
   ]
  },
  {
   "cell_type": "markdown",
   "metadata": {},
   "source": [
    "Chapter 3 Sage introduction\n"
   ]
  },
  {
   "cell_type": "code",
   "execution_count": 9,
   "metadata": {},
   "outputs": [
    {
     "name": "stdout",
     "output_type": "stream",
     "text": [
      "5\n",
      "8\n"
     ]
    },
    {
     "data": {
      "text/plain": [
       "15"
      ]
     },
     "execution_count": 9,
     "metadata": {},
     "output_type": "execute_result"
    }
   ],
   "source": [
    "print(ZZ(5))\n",
    "print(ZZ(5) +ZZ(3))\n",
    "ZZ(5)*NN(3)"
   ]
  },
  {
   "cell_type": "code",
   "execution_count": 10,
   "metadata": {},
   "outputs": [
    {
     "data": {
      "text/plain": [
       "2^3 * 3^2 * 7"
      ]
     },
     "execution_count": 10,
     "metadata": {},
     "output_type": "execute_result"
    }
   ],
   "source": [
    "factor(NN(504))"
   ]
  },
  {
   "cell_type": "markdown",
   "metadata": {},
   "source": []
  },
  {
   "cell_type": "code",
   "execution_count": 14,
   "metadata": {},
   "outputs": [
    {
     "name": "stdout",
     "output_type": "stream",
     "text": [
      "123 27 0\n",
      "2 * 3 * 5 * 7 * 11 * 13\n",
      "7 * 11 * 13\n"
     ]
    }
   ],
   "source": [
    "# Exercise 3.1\n",
    "print(abs(-123), abs(27), abs(0))\n",
    "# Exercise 3.2: factor 30030 => 2*5*3*1001\n",
    "print(factor(30030))\n",
    "print(factor(1001))\n",
    "# Exercise 3.3: given 4*x + 21 = 5\n",
    "# 1. find solutions in N => [0,inf) = > no solutions\n",
    "# 2. find solutions in Z => -4"
   ]
  },
  {
   "cell_type": "code",
   "execution_count": 2,
   "metadata": {},
   "outputs": [
    {
     "name": "stdout",
     "output_type": "stream",
     "text": [
      "-5\n",
      "3\n"
     ]
    }
   ],
   "source": [
    "print(ZZ(-17) // ZZ(4))\n",
    "print(ZZ(-17) % ZZ(4))\n"
   ]
  },
  {
   "cell_type": "code",
   "execution_count": 1,
   "metadata": {},
   "outputs": [
    {
     "name": "stdout",
     "output_type": "stream",
     "text": [
      "8\n"
     ]
    }
   ],
   "source": [
    "def add(a,b):\n",
    "    return a+b\n",
    "    \n",
    "print(add(3,5))"
   ]
  },
  {
   "cell_type": "code",
   "execution_count": 49,
   "metadata": {},
   "outputs": [
    {
     "name": "stdout",
     "output_type": "stream",
     "text": [
      "(4, 1, -1)\n",
      "(1, -2, 5)\n",
      "(1, 5, 2)\n",
      "(1, -1241, -7)\n"
     ]
    },
    {
     "data": {
      "text/plain": [
       "(1, -2, 5)"
      ]
     },
     "execution_count": 49,
     "metadata": {},
     "output_type": "execute_result"
    }
   ],
   "source": [
    "# extended euclidean algorithm\n",
    "# find GCD(a,b) = s*a + t*b\n",
    "def eea(a: int,b: int) -> (int, int, int):\n",
    "    assert(a >= b)\n",
    "    r= [a,b]\n",
    "    s = [1,0]\n",
    "    t = [0,1]\n",
    "    k = 2\n",
    "    while true:\n",
    "        if r[1] == 0:\n",
    "            break\n",
    "          \n",
    "        q = r[0] // r[1]\n",
    "        r= [r[1], r[0]%r[1] ]\n",
    "        s = [s[1], s[0] - q*s[1] ]\n",
    "        t = [t[1], t[0] - q*t[1] ]\n",
    "\n",
    "    assert (r[0] == s[0]*a + t[0]*b)\n",
    "    # ensure postive gcd\n",
    "    if r[0] < 0:\n",
    "        r[0] = -r[0]\n",
    "        s[0] = -s[0]\n",
    "        t[0] = -t[0]\n",
    "    return r[0], s[0], t[0]\n",
    "\n",
    "print(eea(16,12))\n",
    "print(eea(12,5))\n",
    "print(eea(5,-12))\n",
    "print(eea(24,-4255))\n",
    "ZZ(12).xgcd(ZZ(5))\n",
    "        "
   ]
  },
  {
   "cell_type": "code",
   "execution_count": 8,
   "metadata": {},
   "outputs": [
    {
     "name": "stdout",
     "output_type": "stream",
     "text": [
      "(5, 1, -4)\n",
      "(1, -5, 6)\n",
      "(1, 1, -1)\n"
     ]
    },
    {
     "data": {
      "text/plain": [
       "(1, 1, -1)"
      ]
     },
     "execution_count": 8,
     "metadata": {},
     "output_type": "execute_result"
    }
   ],
   "source": [
    "#Exercise 3.8: find s,t E Z such that gcd(a,b) = s*a + t*b\n",
    "a,b = 45,10\n",
    "print(eea(a,b))\n",
    "a,b = 13,11\n",
    "print(eea(a,b))\n",
    "a,b = 13,12\n",
    "print(eea(a,b))\n",
    "ZZ(a).xgcd(ZZ(b))"
   ]
  },
  {
   "cell_type": "code",
   "execution_count": 9,
   "metadata": {},
   "outputs": [],
   "source": [
    "# Exercise 3.9: let n E N and p a prime number with n < p. What is the gcd(n,p)?\n",
    "# the answer is 1. p has no divisors and n is less the p"
   ]
  },
  {
   "cell_type": "code",
   "execution_count": 13,
   "metadata": {},
   "outputs": [
    {
     "name": "stdout",
     "output_type": "stream",
     "text": [
      "5\n",
      "15\n",
      "35\n",
      "45\n",
      "55\n",
      "65\n",
      "85\n",
      "95\n"
     ]
    }
   ],
   "source": [
    "# Exercise 3.10: find all numbers k E N with 0 <= k < 100 such that gcd(k,100) = 5\n",
    "# the factors of 100 are 2^2 * 5^2\n",
    "# so we need 5 and odd numbers divisible by 5 and not 25\n",
    "# 5, 15, 35, 45, 55, 65, 85, 95\n",
    "\n",
    "for x in range(100):\n",
    "    if ZZ(x).gcd(ZZ(100)) == 5:\n",
    "        print(x)\n"
   ]
  },
  {
   "cell_type": "code",
   "execution_count": null,
   "metadata": {},
   "outputs": [],
   "source": [
    "# Exercise 3.11: show gcd(a,b) = gcd(a+b,b) for all n,m E N\n",
    "# let d = gcd(a,b)\n",
    "# a = d*a'\n",
    "# b = d*b'\n",
    "# a+b = d*a' + d*b' = d(a'+b')\n",
    "# so d is a common divisor of a+b and b\n",
    "# thanks copilot. in my own words -- the gcd is largest common factor. adding a + b = gcd*(a1+b1)\n",
    "# by definition a1, b1 don't have any common factor, since all the common prime factor are absorbed\n",
    "# into gcd\n"
   ]
  },
  {
   "cell_type": "code",
   "execution_count": 16,
   "metadata": {},
   "outputs": [
    {
     "name": "stdout",
     "output_type": "stream",
     "text": [
      "[[45, 10, False], [13, 11, True], [13, 12, True]]\n"
     ]
    }
   ],
   "source": [
    "# Exercise 12: what pairs are coprime? (45,10), (13,12), (13,11)\n",
    "cases = [\n",
    "    [45,10,False],\n",
    "    [13,11,True],\n",
    "    [13,12,True],\n",
    "]\n",
    "print(cases)\n",
    "\n",
    "for c in cases:\n",
    "    assert(ZZ(c[0]).gcd(ZZ(c[1])) == 1) == c[2]"
   ]
  },
  {
   "cell_type": "code",
   "execution_count": 32,
   "metadata": {},
   "outputs": [
    {
     "name": "stdout",
     "output_type": "stream",
     "text": [
      "8\n",
      "748\n",
      "511\n"
     ]
    }
   ],
   "source": [
    "# Exercise 3.13: convert octal to decimal for 0o1354, 0o777\n",
    "def octal_to_decimal(x:str) -> int:\n",
    "    out = 0\n",
    "    i = 0\n",
    "    # reverse range\n",
    "    y=x[::-1]\n",
    "    for c in y:\n",
    "        out += int(c)*pow(8,i)\n",
    "        i+=1\n",
    "    return out\n",
    "\n",
    "print(octal_to_decimal(\"10\"))\n",
    "print(octal_to_decimal(\"1354\"))\n",
    "print(octal_to_decimal(\"777\"))\n",
    "\n",
    "assert(octal_to_decimal(\"1354\") == int(\"1354\",8))\n"
   ]
  },
  {
   "cell_type": "code",
   "execution_count": 34,
   "metadata": {},
   "outputs": [],
   "source": [
    "# Exercise 14: which are congruent wrt 13:\n",
    "# (5,19): no 5 mod 13 = 5 != 6 = 19 mod 13\n",
    "# (13,0): yes\n",
    "\n",
    "cases = [\n",
    "    [5,19,False],\n",
    "    [13,0, True],\n",
    "    [-4,9,True],\n",
    "    [0,0,True],\n",
    "]\n",
    "\n",
    "modulus = 13\n",
    "for c in cases:\n",
    "    assert(ZZ(c[0]).mod(ZZ(modulus)) == ZZ(c[1]).mod(ZZ(modulus))) == c[2]"
   ]
  },
  {
   "cell_type": "code",
   "execution_count": null,
   "metadata": {},
   "outputs": [],
   "source": [
    "# Exercise 15: find all integers x, such that the congruence x==4 mod 6\n",
    "# 4, 4 + 6, 4+ 2*6, ... and 4 -6, 4 - 2*6, ..."
   ]
  },
  {
   "cell_type": "code",
   "execution_count": 37,
   "metadata": {},
   "outputs": [],
   "source": [
    "# Exercise 16: mod 13, find x such that 5x + 4 == 28 + 2x\n",
    "# 3x = 24 => x = 8 mod 13\n",
    "\n",
    "def ex16(p: int) -> bool :\n",
    "    return (ZZ(5)*ZZ(p) + ZZ(4)) % ZZ(13) == (ZZ(28) + ZZ(2)*ZZ(p)) % ZZ(13)\n",
    "\n",
    "assert(ex16(8))\n",
    "assert(ex16(8+3*13))\n",
    "assert(ex16(8-2*13))"
   ]
  },
  {
   "cell_type": "code",
   "execution_count": 39,
   "metadata": {},
   "outputs": [],
   "source": [
    "# Exercise 17: find x such that 69x = 5 mod 23\n",
    "# 69 mod 23 = 0  there are no solutions: 0x = 5 mod 23\n",
    "def ex17(p: int) -> bool :\n",
    "    return (ZZ(69)*ZZ(p)) % ZZ(23) == ZZ(5)\n",
    "\n",
    "for x in range(23):\n",
    "    if ex17(x):\n",
    "        print(x)\n"
   ]
  },
  {
   "cell_type": "code",
   "execution_count": 41,
   "metadata": {},
   "outputs": [
    {
     "name": "stdout",
     "output_type": "stream",
     "text": [
      "0\n",
      "1\n",
      "2\n",
      "3\n",
      "4\n",
      "5\n",
      "6\n",
      "7\n",
      "8\n",
      "9\n",
      "10\n",
      "11\n",
      "12\n",
      "13\n",
      "14\n",
      "15\n",
      "16\n",
      "17\n",
      "18\n",
      "19\n",
      "20\n",
      "21\n",
      "22\n"
     ]
    }
   ],
   "source": [
    "# Exercise 18: find x such that 69x = 46 mod 23\n",
    "# this reduces to 0x = 0 mod 23, so the solution is all element Z\n",
    "\n",
    "def ex18(p: int) -> bool :\n",
    "    return (ZZ(69)*ZZ(p)) % ZZ(23) == ZZ(46) % ZZ(23)\n",
    "\n",
    "for x in range(23):\n",
    "    if ex18(x):\n",
    "        print(x)"
   ]
  },
  {
   "cell_type": "code",
   "execution_count": null,
   "metadata": {},
   "outputs": [],
   "source": [
    "# Exercise 19: let a,b,k E Z such that  a= b mod n. show a^k = b^k mod n\n",
    "# this reduces to a = a mod n, so a^k = a^k mod n\n",
    "# "
   ]
  },
  {
   "cell_type": "code",
   "execution_count": 42,
   "metadata": {},
   "outputs": [],
   "source": [
    "# Exercise 20: let a,n  E Z such that gcd(a,n) != 1 (i.e not coprime). For which\n",
    "# b E Z is there a solution to the congruence ax = b mod n?\n",
    "# b must be a multiple of gcd(a,n)\n",
    "\n",
    "\n"
   ]
  },
  {
   "cell_type": "code",
   "execution_count": 53,
   "metadata": {},
   "outputs": [
    {
     "name": "stdout",
     "output_type": "stream",
     "text": [
      "1 1\n",
      "7 7\n",
      "805 13\n",
      "-4255 17\n"
     ]
    }
   ],
   "source": [
    "# Exercise 22: consider mod n =24: which integers 1,7,0,805,-4255 have multipicative inverses?\n",
    "# multplicate inverse means being coprime with n. it's easy to see that 1 and 7 are coprime with 24 while 0 is not. we can check the other two\n",
    "# using our Extended Euclidean Algorithm\n",
    "\n",
    "assert (ZZ(805).gcd(ZZ(24)) == 1)\n",
    "assert (ZZ(-4255).gcd(ZZ(24)) == 1)\n",
    "\n",
    "#  two compute the inverse of a number r mod n, we can use the Extended Euclidean Algorithm when gcd(r,n) = 1\n",
    "#  this follows from the fact that gcd(r,n) = 1 = s*r + t*n\n",
    "#  so that if we mod this by n, we have 1 = s*r mod n and s is the inverse of r mod n\n",
    "def inverse(r:int, n: int) -> int:\n",
    "    #assert(ZZ(r).gcd(ZZ(n)) == 1)\n",
    "    # eea requires r >=n\n",
    "    if r >= n:\n",
    "        d,s, _ = eea(r,n)\n",
    "        assert(d == 1)\n",
    "        return s % n\n",
    "    else:\n",
    "        d,_, t = eea(n,r)\n",
    "        assert(d == 1)\n",
    "        return t %n \n",
    "\n",
    "\n",
    "for x in [1,7,805,-4255]:\n",
    "    print(x, inverse(x,24))\n",
    "    inv = inverse(x,24)\n",
    "    assert(x*inv % 24 == 1)\n",
    "    assert inv == ZZ(x).inverse_mod(ZZ(24))"
   ]
  },
  {
   "cell_type": "code",
   "execution_count": 86,
   "metadata": {},
   "outputs": [
    {
     "name": "stdout",
     "output_type": "stream",
     "text": [
      "3\n",
      "4\n",
      "1\n",
      "1\n",
      "6^3 216\n"
     ]
    }
   ],
   "source": [
    "# Exercise 23: projecting into Z_y: find the solutions to the congruence 16(2x+5) - 4 == 2x + 4 (mod 5)\n",
    "# projecting in Z_5 means dividing all the terms  > |5| by 5 and taking the remainder =>\n",
    "# 2(*2x+0_) - 4 == 2x+ 4 (mod 5) => 2x = 8 mod 5 => 2x = 3 mod 5.\n",
    "# since 5 is prime we can use Fermat's little theorem to find the inverse of 2 mod 5\n",
    "\n",
    "def little_fermat(a:int, p:int) -> int:\n",
    "    assert(p > 1 and ZZ(p).is_prime())\n",
    "    return pow(a,p-2,p)\n",
    "\n",
    "print(little_fermat(2,5))\n",
    "x = 3*little_fermat(2,5) % 5\n",
    "print(x)\n",
    "print(little_fermat(1,5))\n",
    "\n",
    "print(little_fermat(6,5))\n",
    "print(\"6^3\", pow(6,3))"
   ]
  },
  {
   "cell_type": "code",
   "execution_count": 67,
   "metadata": {},
   "outputs": [
    {
     "name": "stdout",
     "output_type": "stream",
     "text": [
      "2*x^3 + 3*x^2 - 5*x + 1\n",
      "2*x^3 + 3*x^2 - 5*x + 1 =( x - 2 )*( 2*x^2 + 7*x + 9 )+ 19\n"
     ]
    }
   ],
   "source": [
    "# Polynomial long division\n",
    "# A,B polynomials E R(x) with B != 0 (i.e polynomials in x with real coefficients) such that deg(A) >= deg(B) and LC(B)^-1 exists in R\n",
    "# (LC is the leading coefficient of B)\n",
    "# we can find Q,R such that A = BQ + R and deg(R) < deg(B)\n",
    "# the algorithm is as follows:\n",
    "# 1. set Q = 0 and R = A\n",
    "# 2. if deg(R) < deg(B) stop\n",
    "# 3. divide the leading term of R by the leading coefficient of B and call the result q\n",
    "# 4. set Q = Q + q*x^(deg(R)-deg(B)) and R = R - q*B\n",
    "# 5. go to step 2\n",
    "\n",
    "# Exercise 24: divide 2x^3 + 3x^2 - 5x + 1 by x-2\n",
    "# 1. Q = 0, R = 2x^3 + 3x^2 - 5x + 1\n",
    "# 2. deg(R) = 3 >= deg(B) = 1\n",
    "# 3. q = 2x^2   (leading term of R = 2x^3, leading coefficient of B = 2)\n",
    "# 4. Q = 2x^2, R = 2x^3 + 3x^2 - 5x + 1 - 2x^2*(x-2) = 7x^2 - 5x + 1\n",
    "# 5. go to step 2\n",
    "# 2. deg(R) = 2 >= deg(B) = 1\n",
    "# 3. q = 7x   (leading term of R = 7x^2, leading coefficient of B = 1)\n",
    "# 4. Q = 2x^2 + 7x, R = 7x^2 - 5x + 1 - 7x*(x-2) =9x + 1\n",
    "# 5. go to step 2\n",
    "# 2. deg(R) = 1 >= deg(B) = 1\n",
    "# 3. q = 9   (leading term of R = 9x, leading coefficient of B = 1)\n",
    "# 4. Q = 2x^2 + 7x + 9, R = 9x + 1 - 9*(x-2) = 19\n",
    "\n",
    "Zx = ZZ['x']\n",
    "A = Zx([1,-5,3,2])\n",
    "B = Zx([-2,1])\n",
    "Q = Zx([9,7,2])\n",
    "R = Zx([19])\n",
    "print(B*Q +R)\n",
    "print(A, \"=(\", B, \")*(\", Q, \")+\", R)\n",
    "assert(A == B*Q + R)\n",
    "#"
   ]
  },
  {
   "cell_type": "code",
   "execution_count": 77,
   "metadata": {},
   "outputs": [
    {
     "name": "stdout",
     "output_type": "stream",
     "text": [
      "-3*x^4 + 4*x^3 + 2*x^2 + 4 =( x^2 - 4*x + 2 )*( -3*x^2 - 8*x - 24 )+ -80*x + 52\n",
      "-3*x^4 + 4*x^3 + 2*x^2 + 4\n"
     ]
    }
   ],
   "source": [
    "# Exercise 27: A(x) = -3x^4 + 4x^3 +2x^2 + 4, B(x) = x^2 - 4x +2\n",
    "#  A: Compute Euclidean Algorithm for A,B E Z[x]\n",
    "# Q = 0, R = -3x^4 + 4x^3 +2x^2 + 4\n",
    "# deg(R) = 4 >= deg(B) = 2\n",
    "# q = -3x^2\n",
    "# Q = -3x^2, R = -3x^4 + 4x^3 +2x^2 + 4 -[ (-3x^2)*(x^2 - 4x +2) ] = -8x^3 + 8x^2 + 4\n",
    "# deg(R) = 3 >= deg(B) = 2\n",
    "# q = -8x\n",
    "# Q = -3x^2 + -8x, R = -8x^3 + 8x^2 +4 - (-8x)*(x^2 - 4x +2) = -24x^2 +16x +4\n",
    "# deg(R) = 2 >= deg(B) = 2\n",
    "# q = -24\n",
    "#  Q = -3x^2 + -8x - 24, R = -24x^2 + 16x + 4 - (-24)*(x^2 - 4x +2) = -80x +52\n",
    "# Q = -3x^2 + -8x - 24, R = -80x + 52\n",
    "\n",
    "Zx = ZZ['x']\n",
    "A = Zx([4,0,2,4,-3])\n",
    "B = Zx([2,-4,1])\n",
    "Q = Zx([-24,-8,-3])\n",
    "R = Zx([52,-80])\n",
    "\n",
    "print(A, \"=(\", B, \")*(\", Q, \")+\", R)\n",
    "print( B*Q + R)\n",
    "assert(A == B*Q + R)\n",
    "\n",
    "# B: do the same for A,B E Z_6[x]\n",
    "# note: we can do the same since the leading coefficient of B is 1 which is invertible in Z_6\n",
    "# Q = 0, R = -3x^4 + 4x^3 +2x^2 + 4\n",
    "# deg(R) = 4 >= deg(B) = 2\n",
    "# q = -3x^2\n",
    "# Q = -3x^2, R = -3x^4 + 4x^3 +2x^2 + 4 - (-3x^2)*(x^2 - 4x +2)  = 4x^3 + 2x^2 + 4 - 12x^3 + 6x^2 = 4x^3 + 2x^2 + 4 where the two terms = 0 mod 6\n",
    "# deg(R) = 3 >= deg(B) = 2\n",
    "# q = 4x\n",
    "# Q = -3x^2 + 4x, R = 4x^3 + 2x^2 + 4 - 4x*(x^2 - 4x +2) =  2x^2 + 4  + 16x^2 - 8x = 18x^2 - 8x + 4 = -8x+ 4 = 4x + 4\n",
    "# Q = 3x^2 + 4x , R = 4x + 4 where we used -3 mod 6 = 3 mod 6\n",
    "\n",
    "# this could have been derived from the previous result by taking the remainder of each term mod 6\n",
    "# Q = -3x^2 + -8x - 24, R = -80x + 52 mod 6 => Q = 3x^2 + 4x - 0, R = -2x + 4 = 4x + 4\n",
    "\n"
   ]
  },
  {
   "cell_type": "code",
   "execution_count": 80,
   "metadata": {},
   "outputs": [
    {
     "data": {
      "text/plain": [
       "-1/30*x^2 - 37/30*x + 5"
      ]
     },
     "execution_count": 80,
     "metadata": {},
     "output_type": "execute_result"
    }
   ],
   "source": [
    "# Larange interpolation: given n+1 points (x_0,y_0),...,(x_n,y_n) with x_i != x_j for i != j, \n",
    "# there is a unique polynomial P(x) of degree at most n such that P(x_i) = y_i for all i\n",
    "# the polynomial is given by:\n",
    "# P(x) = sum_{i=0}^n y_i * l_i(x)\n",
    "# where l_i(x) = product_{j=0, j != i}^n (x - x_j)/(x_i - x_j)\n",
    "\n",
    "# Example: find the polynomial of degree at most 2 that passes through the points (0,5), (5,-2), (-7,12)\n",
    "# P(x) = 5 * l_0(x) + -2 * l_1(x) + 12 * l_2(x)\n",
    "# l_0(x) = (x-x1)/(x0-x1) * (x-x2)/(x0-x2) = (x-5)/(0-5) *(x+7)/(0+7)= -(x-5)(x+7)/35\n",
    "# l_1(x) = (x-x0)/(x1-x0) * (x-x2)/(x1-x2) = (x-0)/(5-0) *(x+7)/(5+7)= (x)(x+7)/60\n",
    "# l_2(x) = (x-x0)/(x2-x0) * (x-x1)/(x2-x1) = (x-0)/(-7-0) *(x-5)/(-7-5)= (x)(x-5)/84\n",
    "# P = 5 * (-(x-5)(x+7)/35) + -2 * (x)(x+7)/60 + 12 * (x)(x-5)/84\n",
    "# P = -(x-5)(x+7)/7 - (x)(x+7)/30 +  (x)(x-5)/7\n",
    "Qx = QQ['x']\n",
    "S = [(0,5), (5,-2), (-7,12)]\n",
    "Qx.lagrange_polynomial(S)"
   ]
  },
  {
   "cell_type": "code",
   "execution_count": 89,
   "metadata": {},
   "outputs": [
    {
     "data": {
      "text/plain": [
       "4*x^3 + 3*x^2 + 4*x"
      ]
     },
     "execution_count": 89,
     "metadata": {},
     "output_type": "execute_result"
    }
   ],
   "source": [
    "# Exercise 31: find P E Z_5[x] given the set S={(0,0), (1,1), (2,2), (3,2)}\n",
    "# P(x) = 0 * l_0(x) + 1 * l_1(x) + 2 * l_2(x) +2 * l_3(x)\n",
    "# l_0(x) = (x-1)/(0-1) * (x-2)/(0-2) * (x-3)/(0-3) = (x-1)(x-2)(x-3)/6\n",
    "# l_1(x) = x*(x-2)*(x-3)/(1*(1-2)*(1-3)) = x*(x-2)(x-3)/2 (mod 5) = 3*x*(x-2)(x-3)\n",
    "# l_2(x) = x*(x-1)*(x-3)(2*(2-1)*(2-3)) = - x*(x-1)(x-3)/2 mod 5 = 4*3*x*(x-1)(x-3) = 2*x*(x-1)(x-3)\n",
    "# l_3(x) = x*(x-1)*(x-2)/(3*(3-1)*(3-2)) = x*(x-1)(x-2)/6 mod 5 = x*(x-1)(x-2)\n",
    "# P(x) = 3*x*(x-2)(x-3) + 2 * 2* x*(x-1)(x-3) + 2 * x*(x-1)(x-2) mod 5\n",
    "# = (3 + 4 +2)x^3 + x^2(-6 -9 -4 -12 -2 -4)) + x(18+12+4) =\n",
    "# 4x^3 +3x^2 + 4x\n",
    "\n",
    "F5 = GF(5)\n",
    "F5x = F5['x']\n",
    "S=[(0,0), (1,1), (2,2), (3,2)]\n",
    "F5x.lagrange_polynomial(S)"
   ]
  },
  {
   "cell_type": "code",
   "execution_count": 92,
   "metadata": {},
   "outputs": [],
   "source": [
    "## Chapter 4: Algebra\n",
    "\n",
    "# Exercise 33: consider the remainder classes of Z_5[x] excluding the zero class. Show Z*_5[x] is a abelian group under multiplication\n",
    "# one way to do this is look at the multiplciation table and see that every row contains all the elements of Z*_5[x]\n",
    "# and that that this matrix is symmetric. the first property means that multiplication is closed and the second that it is abelian\n",
    "\n",
    "# z_5 under multiplication\n",
    "# * 0 1 2 3 4\n",
    "# 0 0 0 0 0 0\n",
    "# 1 0 1 2 3 4\n",
    "# 2 0 2 4 1 3\n",
    "# 3 0 3 1 4 2\n",
    "# 4 0 4 3 2 1\n",
    "\n",
    "# in general this subset excluding the 0 remainder class is NOT a group under multiplication. z_6 is a counter example; we know\n",
    "# from the book that some elements don't have inverses. specifically those elements that are not coprime with 6. This implies that the \n",
    "# modulus must be prime for the subset to be a group under multiplication"
   ]
  },
  {
   "cell_type": "code",
   "execution_count": 94,
   "metadata": {},
   "outputs": [],
   "source": [
    "# Exercise 34: let n E N n >= 2 be some modulus. What is the order of the remainder class of the group (Z_n,+)?\n",
    "# the order is the number of remainders, which is the value of n. this is easy to see by taking elements n, n+1, n+2, ... 2n-1, 2n, 2n+1 and doing the division\n",
    "\n",
    "# Exercise 36: consider the group (Z_6,+). show that 5 is a generator and 2 is not\n",
    "# 5, 2*5, 3*5, 4*5, 5*5, 6*5 = 5, 10/6 = 4, 15/12 =3, 20/18 = 2, 25/24 = 1, 30/30 = 0\n",
    "# 2, 2*2, 3*2, 4*2, 5*2, 6*2 = 2, 4/6 = 4, 6/6 = 0, 8/6 = 2, ...\n",
    "\n",
    "# Exercise 36: Let p ∈ P be prime number and (Z∗p,·) the finite group of remainder classes excluding 0. Show that (Z∗p,·) is cyclic.\n",
    "# 2 is always a generator. you can see that {2^m} m < log(p/2) enumerates all the even elements. the first value of 2^m larger than p must be odd (mod p) \n",
    "# because 2^m is even and even - odd is odd. so that means the 2^(m+1) to 2^2m enumerates odd elements. these elements have to be unique because the each of the numerators is unique\n",
    "# and bounded between p and 2p. since the are bound, we know mod p is unique in that range by assumption of being prime. \n",
    "\n"
   ]
  },
  {
   "cell_type": "code",
   "execution_count": 1,
   "metadata": {},
   "outputs": [
    {
     "name": "stdout",
     "output_type": "stream",
     "text": [
      "b''\n",
      "e3b0c44298fc1c149afbf4c8996fb92427ae41e4649b934ca495991b7852b855\n",
      "102987336249554097029535212322581322789799900648198034993379397001115665086549\n",
      "e3b0c44298fc1c149afbf4c8996fb92427ae41e4649b934ca495991b7852b855\n"
     ]
    }
   ],
   "source": [
    "# Skipping to chapter 4, other work done on paper\n",
    "import hashlib\n",
    "test = 'e3b0c44298fc1c149afbf4c8996fb92427ae41e4649b934ca495991b7852b855'\n",
    "empty_string = \"\"\n",
    "binary_string = empty_string.encode()\n",
    "print(binary_string)\n",
    "hasher = hashlib.sha256\n",
    "binary_hash = hasher(binary_string).hexdigest()\n",
    "print(binary_hash)\n",
    "type(binary_hash)\n",
    "d =ZZ('0x'+binary_hash) # conversion to int\n",
    "print(d)\n",
    "print(d.str(16))\n",
    "assert(d.str(16) == test)\n",
    "\n"
   ]
  },
  {
   "cell_type": "code",
   "execution_count": 37,
   "metadata": {},
   "outputs": [
    {
     "name": "stdout",
     "output_type": "stream",
     "text": [
      "1\n",
      "2\n",
      "3\n",
      "1\n",
      "3\n",
      "9\n",
      "5\n"
     ]
    }
   ],
   "source": [
    "# Pedereson Hash \n",
    "# H_{g_1...g_j} : (Z_r)^j -> G: (x_1,...,x_j) -> g_1^x_1 * ... * g_j^x_j where Z_r is the set of integers modulo r\n",
    "# Example 49: cyclic group Z^*_5 which is the set of remainder classes of Z_5 excluding 0. Take g_1=2, g_2=3 \n",
    "# H_{2,3} : Z_4 x Z_4 -> Z^*_5: (x_1,x_2) -> 2^x_1 * 3^x_2\n",
    "# we can use this to Hash to Group by composing with a hash function\n",
    "# SHA256_H_{2,3} : {0,1}^* -> Z^*_5; x -> 2^(SHA256(x)_0) * 3^(SHA256(x)_1)\n",
    "# note that this a subset of z^*_5, the possible elements are (1*1),(1*3),(2*1),(2*3)=1\n",
    "import hashlib\n",
    "def SHA256_H23(x: str) -> int:\n",
    "    # sha256 as array of 0,1,s\n",
    "    hasher = hashlib.sha256\n",
    "    digest = hasher(x.encode()).hexdigest()\n",
    "    x = ZZ(digest,16)\n",
    "    x_bin = x.digits(base=2, padto=256)  # conversion to int\n",
    "\n",
    "    # group to hash into\n",
    "    Z5 = Integers(5)\n",
    "    return Z5(2)^x_bin[0] * Z5(3)^x_bin[1]\n",
    "\n",
    "print(SHA256_H23(\"hello\"))\n",
    "print(SHA256_H23(\"\"))\n",
    "print(SHA256_H23(\"SHA\"))\n",
    "print(SHA256_H23(\"Math\"))\n",
    "\n",
    "\n",
    "# Exercise 45: consider Z^*_13. Define the Pederson Hash  : Z_12 x Z_12 -> Z^*_13\n",
    "def SHA256_Pederson(x:str, p, *generators) -> int:\n",
    "    #Zp = Integers(13)    \n",
    "    for g in generators:\n",
    "        # hack to check if generator. must be a better way\n",
    "        assert ZZ(g).gcd(ZZ(p)) == 1 and g < p and g !=1\n",
    "    # sha256 as array of 0,1,s\n",
    "    digest = hashlib.sha256(x.encode()).hexdigest()\n",
    "    x = ZZ(digest,16)\n",
    "    x_bin = x.digits(base=2, padto=256) \n",
    "\n",
    "    # group to hash into\n",
    "    Z_P= Integers(p)\n",
    "    r = ZZ(1)\n",
    "    for i in range(len(generators)):\n",
    "       # print(i, generators[i], x_bin[i], r)\n",
    "        r = Z_P(r) * Z_P(generators[i])^x_bin[i]\n",
    "    return r\n",
    "\n",
    "print(SHA256_Pederson(\"hello\", 13, 7,5,3))\n",
    "print(SHA256_Pederson(\"hello\", 13, 2,7,9))\n",
    "print(SHA256_Pederson(\"this is a message to be hashed into a cyclic group\", 13, 2,7,9))\n",
    "\n"
   ]
  },
  {
   "cell_type": "code",
   "execution_count": 40,
   "metadata": {},
   "outputs": [
    {
     "name": "stdout",
     "output_type": "stream",
     "text": [
      "Finite Field of size 3\n",
      "Finite Field in t of size 3^2\n"
     ]
    }
   ],
   "source": [
    "# Field in sage, section 4.3\n",
    "Z3 = GF(3) #prime field\n",
    "print(Z3)\n",
    "Z3t.<t> = Z3[] #polynomial ring over Z3\n",
    "P =  Z3t(t^2 +1)\n",
    "P.is_irreducible()\n",
    "F3_2.<t> = GF(3^2, name='t', modulus=P) # extension field F_3^2\n",
    "print(F3_2)\n",
    "assert F3_2(t+2) * F3_2(2*t+2) == F3_2(2)\n",
    " "
   ]
  },
  {
   "cell_type": "code",
   "execution_count": 48,
   "metadata": {},
   "outputs": [
    {
     "name": "stdout",
     "output_type": "stream",
     "text": [
      "t^3 + t + 1\n",
      "Finite Field in t of size 5^3\n",
      "4*t^2 + 4*t + 1\n",
      "3\n",
      "False\n"
     ]
    }
   ],
   "source": [
    "# Show that the polynomial P=t^3+t+1 from F_5[t] is irreducible. Then consider the extension field F_5^3 \n",
    "# defined relative to P.Compute the multiplicative inverse of (2t2+4)∈ F53 using the Extended Euclidean Algorithm. \n",
    "# Then find all x ∈ F53 that solve the following equation:\n",
    "# (2t^2 +4)(x−(t^2 +4t +2)) = (2t +3)\n",
    "\n",
    "def ex55():\n",
    "    Z5 = GF(5)\n",
    "    Z5t.<t> = Z5[] #polynomial ring over Z3\n",
    "    P =  Z5t(t^3 +t +1)\n",
    "    assert P.is_irreducible()\n",
    "    # manual check:\n",
    "    for x in range(5):\n",
    "        assert P(Z5(x)) != 0\n",
    "    print(P)\n",
    "    F5_3.<t> = GF(5^3, name='t', modulus=P) # extension field F_3^2\n",
    "    print(F5_3)\n",
    "    print(F5_3(2*t^2 +4).inverse())\n",
    "    print(F5_3(2*t^2 +4) * F5_3(2*t^2 + 2*t + 3))\n",
    "    print(F5_3(2*t^2 +4) * (F5_3(2*t^2 +4) - F5_3(t^2 +4*t +2)) == F5_3(2*t +3))\n",
    "\n",
    "ex55()\n",
    "\n",
    "# from pen and paper, i found the inverse to be 4t^2 + 4t + 1"
   ]
  },
  {
   "cell_type": "code",
   "execution_count": 49,
   "metadata": {},
   "outputs": [
    {
     "name": "stdout",
     "output_type": "stream",
     "text": [
      "Elliptic Curve defined by y^2 = x^3 + 2*x + 4 over Finite Field of size 5\n",
      "7\n",
      "[(0 : 1 : 0), (0 : 2 : 1), (0 : 3 : 1), (2 : 1 : 1), (2 : 4 : 1), (4 : 1 : 1), (4 : 4 : 1)]\n",
      "(0 : 2 : 1)\n",
      "affine coords (0, 2)\n"
     ]
    },
    {
     "data": {
      "image/png": "[encoded data removed]",
      "text/plain": [
       "Graphics object consisting of 1 graphics primitive"
      ]
     },
     "execution_count": 49,
     "metadata": {},
     "output_type": "execute_result"
    }
   ],
   "source": [
    "# Chapter 5: Elliptic Curves\n",
    "# weierstrass form: y^2 = x^3 + ax + b\n",
    "F5 = GF(5) # base field\n",
    "a = F5(2)\n",
    "b = F5(4)\n",
    "# check discriminant to ensure non-singular\n",
    "assert F5(4) * a**3 + F5(27) * b**2 != 0\n",
    "E = EllipticCurve(F5, [a,b])\n",
    "print(E)\n",
    "print(E.cardinality())\n",
    "print(E.points())\n",
    "P = E(0,2)\n",
    "print(P)\n",
    "print(\"affine coords\", P.xy())\n",
    "POIF = E(0)\n",
    "E.plot()\n"
   ]
  },
  {
   "cell_type": "code",
   "execution_count": 52,
   "metadata": {},
   "outputs": [
    {
     "name": "stdout",
     "output_type": "stream",
     "text": [
      "Elliptic Curve defined by y^2 = x^3 + 8*x + 8 over Finite Field of size 13\n",
      "20\n",
      "[(0 : 1 : 0), (1 : 2 : 1), (1 : 11 : 1), (4 : 0 : 1), (5 : 2 : 1), (5 : 11 : 1), (6 : 5 : 1), (6 : 8 : 1), (7 : 2 : 1), (7 : 11 : 1), (8 : 5 : 1), (8 : 8 : 1), (9 : 4 : 1), (9 : 9 : 1), (10 : 3 : 1), (10 : 10 : 1), (11 : 6 : 1), (11 : 7 : 1), (12 : 5 : 1), (12 : 8 : 1)]\n"
     ]
    },
    {
     "data": {
      "image/png": "[encoded data removed]",
      "text/plain": [
       "Graphics object consisting of 1 graphics primitive"
      ]
     },
     "execution_count": 52,
     "metadata": {},
     "output_type": "execute_result"
    }
   ],
   "source": [
    "tinyJJ = EllipticCurve(GF(13), [8,8])\n",
    "print(tinyJJ)\n",
    "print(tinyJJ.cardinality())\n",
    "print(tinyJJ.points())\n",
    "tinyJJ.plot()"
   ]
  },
  {
   "cell_type": "code",
   "execution_count": 65,
   "metadata": {},
   "outputs": [
    {
     "name": "stdout",
     "output_type": "stream",
     "text": [
      "256\n",
      "fffffffffffffffffffffffffffffffffffffffffffffffffffffffefffffc2f\n",
      "order  115792089237316195423570985008687907852837564279074904382605163141518161494337  cardinality  115792089237316195423570985008687907852837564279074904382605163141518161494337\n",
      "fffffffffffffffffffffffffffffffebaaedce6af48a03bbfd25e8cd0364141\n",
      "256\n",
      "alt_bn128\n",
      "254\n",
      "Elliptic Curve defined by y^2 = x^3 + 3 over Finite Field of size 21888242871839275222246405745257275088696311157297823662689037894645226208583\n",
      "order  21888242871839275222246405745257275088548364400416034343698204186575808495617  cardinality  21888242871839275222246405745257275088548364400416034343698204186575808495617\n",
      "254\n",
      "30644e72e131a029b85045b68181585d2833e84879b9709143e1f593f0000001\n",
      "bls12_381\n",
      "381\n",
      "1a0111ea397fe69a4b1ba7b6434bacd764774b84f38512bf6730d2a0f6b0f6241eabfffeb153ffffb9feffffffffaaab\n",
      "4002409555221667393417789825735904156556882819939007885332058136124031650490837864442687629129015664037894272559787\n",
      "Elliptic Curve defined by y^2 = x^3 + 4 over Finite Field of size 4002409555221667393417789825735904156556882819939007885332058136124031650490837864442687629129015664037894272559787\n",
      "order  4002409555221667393417789825735904156556882819939007885332058136124031650490837864442687629129030796414117214202539  cardinality  4002409555221667393417789825735904156556882819939007885332058136124031650490837864442687629129030796414117214202539\n"
     ]
    },
    {
     "ename": "AssertionError",
     "evalue": "",
     "output_type": "error",
     "traceback": [
      "\u001b[0;31m---------------------------------------------------------------------------\u001b[0m",
      "\u001b[0;31mAssertionError\u001b[0m                            Traceback (most recent call last)",
      "Cell \u001b[0;32mIn[65], line 52\u001b[0m\n\u001b[1;32m     50\u001b[0m     \u001b[38;5;28mprint\u001b[39m(r\u001b[38;5;241m.\u001b[39mstr(Integer(\u001b[38;5;241m16\u001b[39m)))\n\u001b[1;32m     51\u001b[0m \u001b[38;5;28mprint\u001b[39m(\u001b[38;5;124m\"\u001b[39m\u001b[38;5;124mbls12_381\u001b[39m\u001b[38;5;124m\"\u001b[39m)\n\u001b[0;32m---> 52\u001b[0m \u001b[43mbls12_381\u001b[49m\u001b[43m(\u001b[49m\u001b[43m)\u001b[49m\n",
      "Cell \u001b[0;32mIn[65], line 48\u001b[0m, in \u001b[0;36mbls12_381\u001b[0;34m()\u001b[0m\n\u001b[1;32m     46\u001b[0m r \u001b[38;5;241m=\u001b[39m curve\u001b[38;5;241m.\u001b[39morder()\n\u001b[1;32m     47\u001b[0m \u001b[38;5;28mprint\u001b[39m(\u001b[38;5;124m\"\u001b[39m\u001b[38;5;124morder \u001b[39m\u001b[38;5;124m\"\u001b[39m, r, \u001b[38;5;124m\"\u001b[39m\u001b[38;5;124m cardinality \u001b[39m\u001b[38;5;124m\"\u001b[39m, curve\u001b[38;5;241m.\u001b[39mcardinality())\n\u001b[0;32m---> 48\u001b[0m \u001b[38;5;28;01massert\u001b[39;00m r\u001b[38;5;241m.\u001b[39mis_prime()\n\u001b[1;32m     49\u001b[0m \u001b[38;5;28mprint\u001b[39m(r\u001b[38;5;241m.\u001b[39mnbits())\n\u001b[1;32m     50\u001b[0m \u001b[38;5;28mprint\u001b[39m(r\u001b[38;5;241m.\u001b[39mstr(Integer(\u001b[38;5;241m16\u001b[39m)))\n",
      "\u001b[0;31mAssertionError\u001b[0m: "
     ]
    }
   ],
   "source": [
    "# Exercise 60: implement BCLS12-381 in sage\n",
    "# warmup, implement secp256k1 and alt_bn128\n",
    "def secp256k1():\n",
    "    p = 2^256 - 2^32 - 977\n",
    "    assert p == 115792089237316195423570985008687907853269984665640564039457584007908834671663\n",
    "    assert p.is_prime()\n",
    "    print(p.nbits())\n",
    "    print(p.str(16))\n",
    "    Fp = GF(p)\n",
    "    secp256k1 = EllipticCurve(Fp, [0,7])\n",
    "    r = secp256k1.order()\n",
    "    print(\"order \", r, \" cardinality \", secp256k1.cardinality())\n",
    "    print(r.str(16))\n",
    "    assert r.is_prime()\n",
    "    print(r.nbits())\n",
    "\n",
    "secp256k1()\n",
    "\n",
    "def alt_bn128():\n",
    "    a = 0\n",
    "    b = 3\n",
    "    p = 21888242871839275222246405745257275088696311157297823662689037894645226208583\n",
    "    assert p.is_prime()\n",
    "    print(p.nbits())\n",
    "    curve = EllipticCurve(GF(p), [a,b])\n",
    "    print(curve)\n",
    "    r = curve.order()\n",
    "    print(\"order \", r, \" cardinality \", curve.cardinality())\n",
    "    assert r.is_prime()    \n",
    "    print(r.nbits())\n",
    "    print(r.str(16))\n",
    "\n",
    "print(\"alt_bn128\")\n",
    "alt_bn128()\n",
    "\n",
    "def bls12_381():\n",
    "    p= 0x1a0111ea397fe69a4b1ba7b6434bacd764774b84f38512bf6730d2a0f6b0f6241eabfffeb153ffffb9feffffffffaaab\n",
    "    assert ZZ(p).is_prime()\n",
    "    print(p.nbits())\n",
    "    print(p.str(16))\n",
    "    print(int(p))\n",
    "    a = 0\n",
    "    b = 4\n",
    "    curve = EllipticCurve(GF(p), [a,b])\n",
    "    print(curve)\n",
    "    r = curve.order()\n",
    "    print(\"order \", r, \" cardinality \", curve.cardinality())\n",
    "    print(r.nbits())\n",
    "    print(r.str(16))\n",
    "    \n",
    "print(\"bls12_381\")\n",
    "bls12_381()"
   ]
  },
  {
   "cell_type": "code",
   "execution_count": null,
   "metadata": {},
   "outputs": [],
   "source": []
  }
 ],
 "metadata": {
  "kernelspec": {
   "display_name": "SageMath 10.0",
   "language": "sage",
   "name": "sagemath"
  },
  "language_info": {
   "codemirror_mode": {
    "name": "ipython",
    "version": 3
   },
   "file_extension": ".py",
   "mimetype": "text/x-python",
   "name": "python",
   "nbconvert_exporter": "python",
   "pygments_lexer": "ipython3",
   "version": "3.11.5"
  }
 },
 "nbformat": 4,
 "nbformat_minor": 2
}
