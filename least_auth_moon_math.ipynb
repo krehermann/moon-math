{
 "cells": [
  {
   "cell_type": "code",
   "execution_count": 1,
   "metadata": {},
   "outputs": [
    {
     "data": {
      "text/plain": [
       "Integer Ring"
      ]
     },
     "execution_count": 1,
     "metadata": {},
     "output_type": "execute_result"
    }
   ],
   "source": [
    "ZZ"
   ]
  },
  {
   "cell_type": "code",
   "execution_count": 2,
   "metadata": {},
   "outputs": [
    {
     "data": {
      "text/plain": [
       "Non negative integer semiring"
      ]
     },
     "execution_count": 2,
     "metadata": {},
     "output_type": "execute_result"
    }
   ],
   "source": [
    "NN"
   ]
  },
  {
   "cell_type": "code",
   "execution_count": 3,
   "metadata": {},
   "outputs": [
    {
     "data": {
      "text/plain": [
       "Rational Field"
      ]
     },
     "execution_count": 3,
     "metadata": {},
     "output_type": "execute_result"
    }
   ],
   "source": [
    "QQ"
   ]
  },
  {
   "cell_type": "markdown",
   "metadata": {},
   "source": [
    "Chapter 3 Sage introduction\n"
   ]
  },
  {
   "cell_type": "code",
   "execution_count": 9,
   "metadata": {},
   "outputs": [
    {
     "name": "stdout",
     "output_type": "stream",
     "text": [
      "5\n",
      "8\n"
     ]
    },
    {
     "data": {
      "text/plain": [
       "15"
      ]
     },
     "execution_count": 9,
     "metadata": {},
     "output_type": "execute_result"
    }
   ],
   "source": [
    "print(ZZ(5))\n",
    "print(ZZ(5) +ZZ(3))\n",
    "ZZ(5)*NN(3)"
   ]
  },
  {
   "cell_type": "code",
   "execution_count": 10,
   "metadata": {},
   "outputs": [
    {
     "data": {
      "text/plain": [
       "2^3 * 3^2 * 7"
      ]
     },
     "execution_count": 10,
     "metadata": {},
     "output_type": "execute_result"
    }
   ],
   "source": [
    "factor(NN(504))"
   ]
  },
  {
   "cell_type": "markdown",
   "metadata": {},
   "source": []
  },
  {
   "cell_type": "code",
   "execution_count": 14,
   "metadata": {},
   "outputs": [
    {
     "name": "stdout",
     "output_type": "stream",
     "text": [
      "123 27 0\n",
      "2 * 3 * 5 * 7 * 11 * 13\n",
      "7 * 11 * 13\n"
     ]
    }
   ],
   "source": [
    "# Exercise 3.1\n",
    "print(abs(-123), abs(27), abs(0))\n",
    "# Exercise 3.2: factor 30030 => 2*5*3*1001\n",
    "print(factor(30030))\n",
    "print(factor(1001))\n",
    "# Exercise 3.3: given 4*x + 21 = 5\n",
    "# 1. find solutions in N => [0,inf) = > no solutions\n",
    "# 2. find solutions in Z => -4"
   ]
  },
  {
   "cell_type": "code",
   "execution_count": 2,
   "metadata": {},
   "outputs": [
    {
     "name": "stdout",
     "output_type": "stream",
     "text": [
      "-5\n",
      "3\n"
     ]
    }
   ],
   "source": [
    "print(ZZ(-17) // ZZ(4))\n",
    "print(ZZ(-17) % ZZ(4))\n"
   ]
  },
  {
   "cell_type": "code",
   "execution_count": 1,
   "metadata": {},
   "outputs": [
    {
     "name": "stdout",
     "output_type": "stream",
     "text": [
      "8\n"
     ]
    }
   ],
   "source": [
    "def add(a,b):\n",
    "    return a+b\n",
    "    \n",
    "print(add(3,5))"
   ]
  },
  {
   "cell_type": "code",
   "execution_count": 49,
   "metadata": {},
   "outputs": [
    {
     "name": "stdout",
     "output_type": "stream",
     "text": [
      "(4, 1, -1)\n",
      "(1, -2, 5)\n",
      "(1, 5, 2)\n",
      "(1, -1241, -7)\n"
     ]
    },
    {
     "data": {
      "text/plain": [
       "(1, -2, 5)"
      ]
     },
     "execution_count": 49,
     "metadata": {},
     "output_type": "execute_result"
    }
   ],
   "source": [
    "# extended euclidean algorithm\n",
    "# find GCD(a,b) = s*a + t*b\n",
    "def eea(a: int,b: int) -> (int, int, int):\n",
    "    assert(a >= b)\n",
    "    r= [a,b]\n",
    "    s = [1,0]\n",
    "    t = [0,1]\n",
    "    k = 2\n",
    "    while true:\n",
    "        if r[1] == 0:\n",
    "            break\n",
    "          \n",
    "        q = r[0] // r[1]\n",
    "        r= [r[1], r[0]%r[1] ]\n",
    "        s = [s[1], s[0] - q*s[1] ]\n",
    "        t = [t[1], t[0] - q*t[1] ]\n",
    "\n",
    "    assert (r[0] == s[0]*a + t[0]*b)\n",
    "    # ensure postive gcd\n",
    "    if r[0] < 0:\n",
    "        r[0] = -r[0]\n",
    "        s[0] = -s[0]\n",
    "        t[0] = -t[0]\n",
    "    return r[0], s[0], t[0]\n",
    "\n",
    "print(eea(16,12))\n",
    "print(eea(12,5))\n",
    "print(eea(5,-12))\n",
    "print(eea(24,-4255))\n",
    "ZZ(12).xgcd(ZZ(5))\n",
    "        "
   ]
  },
  {
   "cell_type": "code",
   "execution_count": 8,
   "metadata": {},
   "outputs": [
    {
     "name": "stdout",
     "output_type": "stream",
     "text": [
      "(5, 1, -4)\n",
      "(1, -5, 6)\n",
      "(1, 1, -1)\n"
     ]
    },
    {
     "data": {
      "text/plain": [
       "(1, 1, -1)"
      ]
     },
     "execution_count": 8,
     "metadata": {},
     "output_type": "execute_result"
    }
   ],
   "source": [
    "#Exercise 3.8: find s,t E Z such that gcd(a,b) = s*a + t*b\n",
    "a,b = 45,10\n",
    "print(eea(a,b))\n",
    "a,b = 13,11\n",
    "print(eea(a,b))\n",
    "a,b = 13,12\n",
    "print(eea(a,b))\n",
    "ZZ(a).xgcd(ZZ(b))"
   ]
  },
  {
   "cell_type": "code",
   "execution_count": 9,
   "metadata": {},
   "outputs": [],
   "source": [
    "# Exercise 3.9: let n E N and p a prime number with n < p. What is the gcd(n,p)?\n",
    "# the answer is 1. p has no divisors and n is less the p"
   ]
  },
  {
   "cell_type": "code",
   "execution_count": 13,
   "metadata": {},
   "outputs": [
    {
     "name": "stdout",
     "output_type": "stream",
     "text": [
      "5\n",
      "15\n",
      "35\n",
      "45\n",
      "55\n",
      "65\n",
      "85\n",
      "95\n"
     ]
    }
   ],
   "source": [
    "# Exercise 3.10: find all numbers k E N with 0 <= k < 100 such that gcd(k,100) = 5\n",
    "# the factors of 100 are 2^2 * 5^2\n",
    "# so we need 5 and odd numbers divisible by 5 and not 25\n",
    "# 5, 15, 35, 45, 55, 65, 85, 95\n",
    "\n",
    "for x in range(100):\n",
    "    if ZZ(x).gcd(ZZ(100)) == 5:\n",
    "        print(x)\n"
   ]
  },
  {
   "cell_type": "code",
   "execution_count": null,
   "metadata": {},
   "outputs": [],
   "source": [
    "# Exercise 3.11: show gcd(a,b) = gcd(a+b,b) for all n,m E N\n",
    "# let d = gcd(a,b)\n",
    "# a = d*a'\n",
    "# b = d*b'\n",
    "# a+b = d*a' + d*b' = d(a'+b')\n",
    "# so d is a common divisor of a+b and b\n",
    "# thanks copilot. in my own words -- the gcd is largest common factor. adding a + b = gcd*(a1+b1)\n",
    "# by definition a1, b1 don't have any common factor, since all the common prime factor are absorbed\n",
    "# into gcd\n"
   ]
  },
  {
   "cell_type": "code",
   "execution_count": 16,
   "metadata": {},
   "outputs": [
    {
     "name": "stdout",
     "output_type": "stream",
     "text": [
      "[[45, 10, False], [13, 11, True], [13, 12, True]]\n"
     ]
    }
   ],
   "source": [
    "# Exercise 12: what pairs are coprime? (45,10), (13,12), (13,11)\n",
    "cases = [\n",
    "    [45,10,False],\n",
    "    [13,11,True],\n",
    "    [13,12,True],\n",
    "]\n",
    "print(cases)\n",
    "\n",
    "for c in cases:\n",
    "    assert(ZZ(c[0]).gcd(ZZ(c[1])) == 1) == c[2]"
   ]
  },
  {
   "cell_type": "code",
   "execution_count": 32,
   "metadata": {},
   "outputs": [
    {
     "name": "stdout",
     "output_type": "stream",
     "text": [
      "8\n",
      "748\n",
      "511\n"
     ]
    }
   ],
   "source": [
    "# Exercise 3.13: convert octal to decimal for 0o1354, 0o777\n",
    "def octal_to_decimal(x:str) -> int:\n",
    "    out = 0\n",
    "    i = 0\n",
    "    # reverse range\n",
    "    y=x[::-1]\n",
    "    for c in y:\n",
    "        out += int(c)*pow(8,i)\n",
    "        i+=1\n",
    "    return out\n",
    "\n",
    "print(octal_to_decimal(\"10\"))\n",
    "print(octal_to_decimal(\"1354\"))\n",
    "print(octal_to_decimal(\"777\"))\n",
    "\n",
    "assert(octal_to_decimal(\"1354\") == int(\"1354\",8))\n"
   ]
  },
  {
   "cell_type": "code",
   "execution_count": 34,
   "metadata": {},
   "outputs": [],
   "source": [
    "# Exercise 14: which are congruent wrt 13:\n",
    "# (5,19): no 5 mod 13 = 5 != 6 = 19 mod 13\n",
    "# (13,0): yes\n",
    "\n",
    "cases = [\n",
    "    [5,19,False],\n",
    "    [13,0, True],\n",
    "    [-4,9,True],\n",
    "    [0,0,True],\n",
    "]\n",
    "\n",
    "modulus = 13\n",
    "for c in cases:\n",
    "    assert(ZZ(c[0]).mod(ZZ(modulus)) == ZZ(c[1]).mod(ZZ(modulus))) == c[2]"
   ]
  },
  {
   "cell_type": "code",
   "execution_count": null,
   "metadata": {},
   "outputs": [],
   "source": [
    "# Exercise 15: find all integers x, such that the congruence x==4 mod 6\n",
    "# 4, 4 + 6, 4+ 2*6, ... and 4 -6, 4 - 2*6, ..."
   ]
  },
  {
   "cell_type": "code",
   "execution_count": 37,
   "metadata": {},
   "outputs": [],
   "source": [
    "# Exercise 16: mod 13, find x such that 5x + 4 == 28 + 2x\n",
    "# 3x = 24 => x = 8 mod 13\n",
    "\n",
    "def ex16(p: int) -> bool :\n",
    "    return (ZZ(5)*ZZ(p) + ZZ(4)) % ZZ(13) == (ZZ(28) + ZZ(2)*ZZ(p)) % ZZ(13)\n",
    "\n",
    "assert(ex16(8))\n",
    "assert(ex16(8+3*13))\n",
    "assert(ex16(8-2*13))"
   ]
  },
  {
   "cell_type": "code",
   "execution_count": 39,
   "metadata": {},
   "outputs": [],
   "source": [
    "# Exercise 17: find x such that 69x = 5 mod 23\n",
    "# 69 mod 23 = 0  there are no solutions: 0x = 5 mod 23\n",
    "def ex17(p: int) -> bool :\n",
    "    return (ZZ(69)*ZZ(p)) % ZZ(23) == ZZ(5)\n",
    "\n",
    "for x in range(23):\n",
    "    if ex17(x):\n",
    "        print(x)\n"
   ]
  },
  {
   "cell_type": "code",
   "execution_count": 41,
   "metadata": {},
   "outputs": [
    {
     "name": "stdout",
     "output_type": "stream",
     "text": [
      "0\n",
      "1\n",
      "2\n",
      "3\n",
      "4\n",
      "5\n",
      "6\n",
      "7\n",
      "8\n",
      "9\n",
      "10\n",
      "11\n",
      "12\n",
      "13\n",
      "14\n",
      "15\n",
      "16\n",
      "17\n",
      "18\n",
      "19\n",
      "20\n",
      "21\n",
      "22\n"
     ]
    }
   ],
   "source": [
    "# Exercise 18: find x such that 69x = 46 mod 23\n",
    "# this reduces to 0x = 0 mod 23, so the solution is all element Z\n",
    "\n",
    "def ex18(p: int) -> bool :\n",
    "    return (ZZ(69)*ZZ(p)) % ZZ(23) == ZZ(46) % ZZ(23)\n",
    "\n",
    "for x in range(23):\n",
    "    if ex18(x):\n",
    "        print(x)"
   ]
  },
  {
   "cell_type": "code",
   "execution_count": null,
   "metadata": {},
   "outputs": [],
   "source": [
    "# Exercise 19: let a,b,k E Z such that  a= b mod n. show a^k = b^k mod n\n",
    "# this reduces to a = a mod n, so a^k = a^k mod n\n",
    "# "
   ]
  },
  {
   "cell_type": "code",
   "execution_count": 42,
   "metadata": {},
   "outputs": [],
   "source": [
    "# Exercise 20: let a,n  E Z such that gcd(a,n) != 1 (i.e not coprime). For which\n",
    "# b E Z is there a solution to the congruence ax = b mod n?\n",
    "# b must be a multiple of gcd(a,n)\n",
    "\n",
    "\n"
   ]
  },
  {
   "cell_type": "code",
   "execution_count": 53,
   "metadata": {},
   "outputs": [
    {
     "name": "stdout",
     "output_type": "stream",
     "text": [
      "1 1\n",
      "7 7\n",
      "805 13\n",
      "-4255 17\n"
     ]
    }
   ],
   "source": [
    "# Exercise 22: consider mod n =24: which integers 1,7,0,805,-4255 have multipicative inverses?\n",
    "# multplicate inverse means being coprime with n. it's easy to see that 1 and 7 are coprime with 24 while 0 is not. we can check the other two\n",
    "# using our Extended Euclidean Algorithm\n",
    "\n",
    "assert (ZZ(805).gcd(ZZ(24)) == 1)\n",
    "assert (ZZ(-4255).gcd(ZZ(24)) == 1)\n",
    "\n",
    "#  two compute the inverse of a number r mod n, we can use the Extended Euclidean Algorithm when gcd(r,n) = 1\n",
    "#  this follows from the fact that gcd(r,n) = 1 = s*r + t*n\n",
    "#  so that if we mod this by n, we have 1 = s*r mod n and s is the inverse of r mod n\n",
    "def inverse(r:int, n: int) -> int:\n",
    "    #assert(ZZ(r).gcd(ZZ(n)) == 1)\n",
    "    # eea requires r >=n\n",
    "    if r >= n:\n",
    "        d,s, _ = eea(r,n)\n",
    "        assert(d == 1)\n",
    "        return s % n\n",
    "    else:\n",
    "        d,_, t = eea(n,r)\n",
    "        assert(d == 1)\n",
    "        return t %n \n",
    "\n",
    "\n",
    "for x in [1,7,805,-4255]:\n",
    "    print(x, inverse(x,24))\n",
    "    inv = inverse(x,24)\n",
    "    assert(x*inv % 24 == 1)\n",
    "    assert inv == ZZ(x).inverse_mod(ZZ(24))"
   ]
  },
  {
   "cell_type": "code",
   "execution_count": 57,
   "metadata": {},
   "outputs": [
    {
     "name": "stdout",
     "output_type": "stream",
     "text": [
      "3\n",
      "4\n"
     ]
    }
   ],
   "source": [
    "# Exercise 23: projecting into Z_y: find the solutions to the congruence 16(2x+5) - 4 == 2x + 4 (mod 5)\n",
    "# projecting in Z_5 means dividing all the terms  > |5| by 5 and taking the remainder =>\n",
    "# 2(*2x+0_) - 4 == 2x+ 4 (mod 5) => 2x = 8 mod 5 => 2x = 3 mod 5.\n",
    "# since 5 is prime we can use Fermat's little theorem to find the inverse of 2 mod 5\n",
    "\n",
    "def little_fermat(a:int, p:int) -> int:\n",
    "    assert(p > 1 and ZZ(p).is_prime())\n",
    "    return pow(a,p-2,p)\n",
    "\n",
    "print(little_fermat(2,5))\n",
    "x = 3*little_fermat(2,5) % 5\n",
    "print(x)"
   ]
  },
  {
   "cell_type": "code",
   "execution_count": null,
   "metadata": {},
   "outputs": [],
   "source": []
  }
 ],
 "metadata": {
  "kernelspec": {
   "display_name": "SageMath 10.0",
   "language": "sage",
   "name": "sagemath"
  },
  "language_info": {
   "codemirror_mode": {
    "name": "ipython",
    "version": 3
   },
   "file_extension": ".py",
   "mimetype": "text/x-python",
   "name": "python",
   "nbconvert_exporter": "python",
   "pygments_lexer": "ipython3",
   "version": "3.11.5"
  }
 },
 "nbformat": 4,
 "nbformat_minor": 2
}
